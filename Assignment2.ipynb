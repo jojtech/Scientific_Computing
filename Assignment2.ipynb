{
  "nbformat": 4,
  "nbformat_minor": 0,
  "metadata": {
    "colab": {
      "provenance": [],
      "authorship_tag": "ABX9TyNsQwXis6cuYGdGHh720olh",
      "include_colab_link": true
    },
    "kernelspec": {
      "name": "python3",
      "display_name": "Python 3"
    },
    "language_info": {
      "name": "python"
    }
  },
  "cells": [
    {
      "cell_type": "markdown",
      "metadata": {
        "id": "view-in-github",
        "colab_type": "text"
      },
      "source": [
        "<a href=\"https://colab.research.google.com/github/jojtech/Scientific_Computing/blob/main/Assignment2.ipynb\" target=\"_parent\"><img src=\"https://colab.research.google.com/assets/colab-badge.svg\" alt=\"Open In Colab\"/></a>"
      ]
    },
    {
      "cell_type": "markdown",
      "source": [
        "# VOLUME OF A SPHERE\n"
      ],
      "metadata": {
        "id": "WlIrlitnYfQT"
      }
    },
    {
      "cell_type": "markdown",
      "source": [
        "Volume of a sphere\n",
        "$$Volume = \\frac{4}{3} * \\pi *radius^{3} $$     \n",
        "where π = 3.14159\n",
        "\n"
      ],
      "metadata": {
        "id": "aSjHgweLROjG"
      }
    },
    {
      "cell_type": "code",
      "execution_count": null,
      "metadata": {
        "colab": {
          "base_uri": "https://localhost:8080/"
        },
        "id": "ER69qI3WJ3k9",
        "outputId": "17869f3a-6a0b-4022-8515-8c530aa86c49"
      },
      "outputs": [
        {
          "output_type": "stream",
          "name": "stdout",
          "text": [
            "21\n",
            "Sphere Volume: 38792.35\n"
          ]
        }
      ],
      "source": [
        "PI = 3.14159\n",
        "radius_of_sphere = float(input())\n",
        "volume_of_sphere = (4/3) * PI *(radius_of_sphere**3)\n",
        "print(f'Sphere Volume: {volume_of_sphere:.2f}')"
      ]
    },
    {
      "cell_type": "markdown",
      "source": [
        "# COMPUTING COMPOUND INTEREST\n"
      ],
      "metadata": {
        "id": "QzVvF3TfZJ7M"
      }
    },
    {
      "cell_type": "markdown",
      "source": [
        "$$Amount = P(1+ \\frac{r}{100})^{n} $$\n",
        "where:\n",
        "1.   Amount\t=\tfinal amount\n",
        "2.   P  =\tinitial principal balance\n",
        "3.   r\t=\tinterest rate\n",
        "4.   n\t=\tperiod when the interest applied\n",
        "\n",
        "In this case the values are specified as follows:\n",
        "1.  P - initial_deposit = 100000\n",
        "2.  r - interest_rate = 12%\n",
        "3.  n - time = 5 years"
      ],
      "metadata": {
        "id": "TuGrZCDTRtVX"
      }
    },
    {
      "cell_type": "code",
      "source": [
        "initial_deposit = 100000\n",
        "interest_rate = 0.12\n",
        "time = 5\n",
        "compound_interest = initial_deposit * ((1 + (interest_rate)) ** (time))\n",
        "print(f'Compound Interest: {compound_interest:.2f}')"
      ],
      "metadata": {
        "colab": {
          "base_uri": "https://localhost:8080/"
        },
        "id": "Kc5jQfQrKwKM",
        "outputId": "32651fc9-3818-49e0-9b42-a3a1ce0ea62c"
      },
      "execution_count": null,
      "outputs": [
        {
          "output_type": "stream",
          "name": "stdout",
          "text": [
            "Compound Interest: 176234.17\n"
          ]
        }
      ]
    },
    {
      "cell_type": "markdown",
      "source": [
        "# SOLVING A SYSTEM OF LINEAR EQUATIONS USING THE GAUSS-JORDAN ALGORITHM\n"
      ],
      "metadata": {
        "id": "OmkwPM2ecu3P"
      }
    },
    {
      "cell_type": "markdown",
      "source": [
        "Solve the following system using Gauss-Jordan:\n",
        "$$ x_{1} + 2x_{2} - x_{3} = -2  $$\n",
        "$$2x_{1} + 7x_{2} - 8x_{3} = -16 $$\n",
        "$$  - 2x_{2} + 2x_{3} = 2 $$"
      ],
      "metadata": {
        "id": "XbZQdmGgeUmz"
      }
    },
    {
      "cell_type": "code",
      "source": [
        "import numpy as np\n",
        "import sys\n",
        "\n",
        "n = int(input('Enter number of unknowns: '))\n",
        "\n",
        "a = np.zeros((n,n+1))\n",
        "\n",
        "x = np.zeros(n)\n",
        "\n",
        "print('Enter Augmented Matrix Coefficients:')\n",
        "for i in range(n):\n",
        "    for j in range(n+1):\n",
        "        a[i][j] = float(input('a[' + str(i) + '][' + str(j) + ']= '))\n",
        "\n",
        "for i in range(n):\n",
        "    if a[i][i] == 0.0:\n",
        "        sys.exit('Divide by zero detected!')\n",
        "\n",
        "    for j in range(n):\n",
        "        if i != j:\n",
        "            ratio = a[j][i]/a[i][i]\n",
        "\n",
        "            for k in range(n+1):\n",
        "                a[j][k] = a[j][k] - ratio * a[i][k]\n",
        "\n",
        "for i in range(n):\n",
        "    x[i] = a[i][n]/a[i][i]\n",
        "\n",
        "print('\\nRequired solution is: ')\n",
        "for i in range(1, n + 1):\n",
        "    print('X%d = %0.2f' %(i, x[i-1]), end = '\\t')\n"
      ],
      "metadata": {
        "colab": {
          "base_uri": "https://localhost:8080/"
        },
        "id": "53uWh07SdgDD",
        "outputId": "1b30e4be-55f2-409d-c8f7-0f95da5d782a"
      },
      "execution_count": null,
      "outputs": [
        {
          "output_type": "stream",
          "name": "stdout",
          "text": [
            "Enter number of unknowns: 3\n",
            "Enter Augmented Matrix Coefficients:\n",
            "a[0][0]= 1\n",
            "a[0][1]= 2\n",
            "a[0][2]= -1\n",
            "a[0][3]= -2\n",
            "a[1][0]= 2\n",
            "a[1][1]= 7\n",
            "a[1][2]= -8\n",
            "a[1][3]= -16\n",
            "a[2][0]= 0\n",
            "a[2][1]= -2\n",
            "a[2][2]= 2\n",
            "a[2][3]= 2\n",
            "\n",
            "Required solution is: \n",
            "X1 = -3.00\tX2 = 2.00\tX3 = 3.00\t"
          ]
        }
      ]
    },
    {
      "cell_type": "markdown",
      "source": [],
      "metadata": {
        "id": "Cdk9QSdEeTxg"
      }
    }
  ]
}